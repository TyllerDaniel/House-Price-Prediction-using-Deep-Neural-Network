{
 "cells": [
  {
   "cell_type": "code",
   "execution_count": 1,
   "metadata": {},
   "outputs": [
    {
     "name": "stderr",
     "output_type": "stream",
     "text": [
      "Using TensorFlow backend.\n"
     ]
    }
   ],
   "source": [
    "import pandas as pd\n",
    "from keras.models import Sequential \n",
    "from keras.layers import Dense\n",
    "from sklearn.model_selection import train_test_split\n",
    "from sklearn.preprocessing import MinMaxScaler\n",
    "import matplotlib.pyplot as plt"
   ]
  },
  {
   "cell_type": "code",
   "execution_count": 2,
   "metadata": {},
   "outputs": [
    {
     "data": {
      "text/html": [
       "<div>\n",
       "<style scoped>\n",
       "    .dataframe tbody tr th:only-of-type {\n",
       "        vertical-align: middle;\n",
       "    }\n",
       "\n",
       "    .dataframe tbody tr th {\n",
       "        vertical-align: top;\n",
       "    }\n",
       "\n",
       "    .dataframe thead th {\n",
       "        text-align: right;\n",
       "    }\n",
       "</style>\n",
       "<table border=\"1\" class=\"dataframe\">\n",
       "  <thead>\n",
       "    <tr style=\"text-align: right;\">\n",
       "      <th></th>\n",
       "      <th>LotArea</th>\n",
       "      <th>OverallQual</th>\n",
       "      <th>OverallCond</th>\n",
       "      <th>TotalBsmtSF</th>\n",
       "      <th>FullBath</th>\n",
       "      <th>HalfBath</th>\n",
       "      <th>BedroomAbvGr</th>\n",
       "      <th>TotRmsAbvGrd</th>\n",
       "      <th>Fireplaces</th>\n",
       "      <th>GarageArea</th>\n",
       "      <th>AboveMedianPrice</th>\n",
       "    </tr>\n",
       "  </thead>\n",
       "  <tbody>\n",
       "    <tr>\n",
       "      <td>0</td>\n",
       "      <td>8450</td>\n",
       "      <td>7</td>\n",
       "      <td>5</td>\n",
       "      <td>856</td>\n",
       "      <td>2</td>\n",
       "      <td>1</td>\n",
       "      <td>3</td>\n",
       "      <td>8</td>\n",
       "      <td>0</td>\n",
       "      <td>548</td>\n",
       "      <td>1</td>\n",
       "    </tr>\n",
       "    <tr>\n",
       "      <td>1</td>\n",
       "      <td>9600</td>\n",
       "      <td>6</td>\n",
       "      <td>8</td>\n",
       "      <td>1262</td>\n",
       "      <td>2</td>\n",
       "      <td>0</td>\n",
       "      <td>3</td>\n",
       "      <td>6</td>\n",
       "      <td>1</td>\n",
       "      <td>460</td>\n",
       "      <td>1</td>\n",
       "    </tr>\n",
       "    <tr>\n",
       "      <td>2</td>\n",
       "      <td>11250</td>\n",
       "      <td>7</td>\n",
       "      <td>5</td>\n",
       "      <td>920</td>\n",
       "      <td>2</td>\n",
       "      <td>1</td>\n",
       "      <td>3</td>\n",
       "      <td>6</td>\n",
       "      <td>1</td>\n",
       "      <td>608</td>\n",
       "      <td>1</td>\n",
       "    </tr>\n",
       "    <tr>\n",
       "      <td>3</td>\n",
       "      <td>9550</td>\n",
       "      <td>7</td>\n",
       "      <td>5</td>\n",
       "      <td>756</td>\n",
       "      <td>1</td>\n",
       "      <td>0</td>\n",
       "      <td>3</td>\n",
       "      <td>7</td>\n",
       "      <td>1</td>\n",
       "      <td>642</td>\n",
       "      <td>0</td>\n",
       "    </tr>\n",
       "    <tr>\n",
       "      <td>4</td>\n",
       "      <td>14260</td>\n",
       "      <td>8</td>\n",
       "      <td>5</td>\n",
       "      <td>1145</td>\n",
       "      <td>2</td>\n",
       "      <td>1</td>\n",
       "      <td>4</td>\n",
       "      <td>9</td>\n",
       "      <td>1</td>\n",
       "      <td>836</td>\n",
       "      <td>1</td>\n",
       "    </tr>\n",
       "  </tbody>\n",
       "</table>\n",
       "</div>"
      ],
      "text/plain": [
       "   LotArea  OverallQual  OverallCond  TotalBsmtSF  FullBath  HalfBath  \\\n",
       "0     8450            7            5          856         2         1   \n",
       "1     9600            6            8         1262         2         0   \n",
       "2    11250            7            5          920         2         1   \n",
       "3     9550            7            5          756         1         0   \n",
       "4    14260            8            5         1145         2         1   \n",
       "\n",
       "   BedroomAbvGr  TotRmsAbvGrd  Fireplaces  GarageArea  AboveMedianPrice  \n",
       "0             3             8           0         548                 1  \n",
       "1             3             6           1         460                 1  \n",
       "2             3             6           1         608                 1  \n",
       "3             3             7           1         642                 0  \n",
       "4             4             9           1         836                 1  "
      ]
     },
     "execution_count": 2,
     "metadata": {},
     "output_type": "execute_result"
    }
   ],
   "source": [
    "housing_data = pd.read_csv('E:\\DataScience\\House Price\\housingpricedata.csv')\n",
    "housing_data.head()"
   ]
  },
  {
   "cell_type": "code",
   "execution_count": 3,
   "metadata": {},
   "outputs": [
    {
     "data": {
      "text/plain": [
       "array([[ 8450,     7,     5, ...,     0,   548,     1],\n",
       "       [ 9600,     6,     8, ...,     1,   460,     1],\n",
       "       [11250,     7,     5, ...,     1,   608,     1],\n",
       "       ...,\n",
       "       [ 9042,     7,     9, ...,     2,   252,     1],\n",
       "       [ 9717,     5,     6, ...,     0,   240,     0],\n",
       "       [ 9937,     5,     6, ...,     0,   276,     0]], dtype=int64)"
      ]
     },
     "execution_count": 3,
     "metadata": {},
     "output_type": "execute_result"
    }
   ],
   "source": [
    "#Data conversion into an array.\n",
    "dataset = housing_data.values\n",
    "dataset"
   ]
  },
  {
   "cell_type": "code",
   "execution_count": 4,
   "metadata": {},
   "outputs": [],
   "source": [
    "#split the dataset into independent and dependent datasets\n",
    "X = dataset[:, 0:10] #Get all the rows from columns 0 to 10.\n",
    "Y = dataset[:,10] #Getting all the rows from column at position 10 i.e the Above Median Price column"
   ]
  },
  {
   "cell_type": "code",
   "execution_count": 5,
   "metadata": {},
   "outputs": [
    {
     "data": {
      "text/plain": [
       "array([[0.0334198 , 0.66666667, 0.5       , ..., 0.5       , 0.        ,\n",
       "        0.3864598 ],\n",
       "       [0.03879502, 0.55555556, 0.875     , ..., 0.33333333, 0.33333333,\n",
       "        0.32440056],\n",
       "       [0.04650728, 0.66666667, 0.5       , ..., 0.33333333, 0.33333333,\n",
       "        0.42877292],\n",
       "       ...,\n",
       "       [0.03618687, 0.66666667, 1.        , ..., 0.58333333, 0.66666667,\n",
       "        0.17771509],\n",
       "       [0.03934189, 0.44444444, 0.625     , ..., 0.25      , 0.        ,\n",
       "        0.16925247],\n",
       "       [0.04037019, 0.44444444, 0.625     , ..., 0.33333333, 0.        ,\n",
       "        0.19464034]])"
      ]
     },
     "execution_count": 5,
     "metadata": {},
     "output_type": "execute_result"
    }
   ],
   "source": [
    "#Data scaling.\n",
    "min_max_scaler = MinMaxScaler()\n",
    "X_scale = min_max_scaler.fit_transform(X)\n",
    "X_scale"
   ]
  },
  {
   "cell_type": "code",
   "execution_count": 6,
   "metadata": {},
   "outputs": [],
   "source": [
    "#Split the data into training and testing i.e 80% training and 20% testing.\n",
    "X_train, X_val_and_test, Y_train, Y_val_and_test = train_test_split(X_scale, Y,test_size = 0.2)\n",
    "X_val, X_test, Y_val, Y_test = train_test_split(X_val_and_test, Y_val_and_test,test_size = 0.5)"
   ]
  },
  {
   "cell_type": "code",
   "execution_count": 7,
   "metadata": {},
   "outputs": [
    {
     "name": "stdout",
     "output_type": "stream",
     "text": [
      "(1168, 10) (146, 10) (146, 10) (1168,) (146,) (146,)\n"
     ]
    }
   ],
   "source": [
    "print(X_train.shape, X_val.shape,X_test.shape,Y_train.shape,Y_val.shape,Y_test.shape)"
   ]
  },
  {
   "cell_type": "code",
   "execution_count": 8,
   "metadata": {},
   "outputs": [],
   "source": [
    "#Start modeling the ANN.\n",
    "model = Sequential()\n",
    "model.add(Dense(units=32,activation='relu',input_dim=10))\n",
    "model.add(Dense(units=32,activation='relu'))\n",
    "model.add(Dense(units=32,activation='relu'))\n",
    "model.add(Dense(units=1,activation='sigmoid'))"
   ]
  },
  {
   "cell_type": "code",
   "execution_count": 9,
   "metadata": {},
   "outputs": [
    {
     "name": "stdout",
     "output_type": "stream",
     "text": [
      "WARNING:tensorflow:From C:\\Users\\Gachengoh\\Anaconda3\\envs\\PythonGPU\\lib\\site-packages\\tensorflow\\python\\ops\\nn_impl.py:180: add_dispatch_support.<locals>.wrapper (from tensorflow.python.ops.array_ops) is deprecated and will be removed in a future version.\n",
      "Instructions for updating:\n",
      "Use tf.where in 2.0, which has the same broadcast rule as np.where\n"
     ]
    }
   ],
   "source": [
    "model.compile(optimizer = 'sgd', loss = 'binary_crossentropy',metrics= ['accuracy'])"
   ]
  },
  {
   "cell_type": "code",
   "execution_count": 10,
   "metadata": {},
   "outputs": [
    {
     "name": "stdout",
     "output_type": "stream",
     "text": [
      "WARNING:tensorflow:From C:\\Users\\Gachengoh\\Anaconda3\\envs\\PythonGPU\\lib\\site-packages\\keras\\backend\\tensorflow_backend.py:422: The name tf.global_variables is deprecated. Please use tf.compat.v1.global_variables instead.\n",
      "\n",
      "Train on 1168 samples, validate on 146 samples\n",
      "Epoch 1/100\n",
      "1168/1168 [==============================] - 0s 408us/step - loss: 0.6583 - accuracy: 0.5034 - val_loss: 0.6609 - val_accuracy: 0.5616\n",
      "Epoch 2/100\n",
      "1168/1168 [==============================] - 0s 112us/step - loss: 0.6457 - accuracy: 0.6224 - val_loss: 0.6502 - val_accuracy: 0.6438\n",
      "Epoch 3/100\n",
      "1168/1168 [==============================] - 0s 110us/step - loss: 0.6352 - accuracy: 0.7380 - val_loss: 0.6416 - val_accuracy: 0.6918\n",
      "Epoch 4/100\n",
      "1168/1168 [==============================] - 0s 110us/step - loss: 0.6250 - accuracy: 0.7603 - val_loss: 0.6323 - val_accuracy: 0.7260\n",
      "Epoch 5/100\n",
      "1168/1168 [==============================] - 0s 108us/step - loss: 0.6144 - accuracy: 0.7800 - val_loss: 0.6221 - val_accuracy: 0.7603\n",
      "Epoch 6/100\n",
      "1168/1168 [==============================] - 0s 110us/step - loss: 0.6035 - accuracy: 0.8005 - val_loss: 0.6121 - val_accuracy: 0.7740\n",
      "Epoch 7/100\n",
      "1168/1168 [==============================] - 0s 110us/step - loss: 0.5918 - accuracy: 0.7997 - val_loss: 0.6020 - val_accuracy: 0.7740\n",
      "Epoch 8/100\n",
      "1168/1168 [==============================] - 0s 112us/step - loss: 0.5795 - accuracy: 0.8065 - val_loss: 0.5913 - val_accuracy: 0.7740\n",
      "Epoch 9/100\n",
      "1168/1168 [==============================] - 0s 110us/step - loss: 0.5668 - accuracy: 0.8065 - val_loss: 0.5788 - val_accuracy: 0.7808\n",
      "Epoch 10/100\n",
      "1168/1168 [==============================] - 0s 112us/step - loss: 0.5534 - accuracy: 0.8262 - val_loss: 0.5682 - val_accuracy: 0.7808\n",
      "Epoch 11/100\n",
      "1168/1168 [==============================] - 0s 110us/step - loss: 0.5399 - accuracy: 0.8219 - val_loss: 0.5547 - val_accuracy: 0.7945\n",
      "Epoch 12/100\n",
      "1168/1168 [==============================] - 0s 111us/step - loss: 0.5253 - accuracy: 0.8288 - val_loss: 0.5405 - val_accuracy: 0.7945\n",
      "Epoch 13/100\n",
      "1168/1168 [==============================] - 0s 109us/step - loss: 0.5115 - accuracy: 0.8493 - val_loss: 0.5279 - val_accuracy: 0.8014\n",
      "Epoch 14/100\n",
      "1168/1168 [==============================] - 0s 110us/step - loss: 0.4968 - accuracy: 0.8570 - val_loss: 0.5163 - val_accuracy: 0.8014\n",
      "Epoch 15/100\n",
      "1168/1168 [==============================] - 0s 109us/step - loss: 0.4826 - accuracy: 0.8553 - val_loss: 0.5049 - val_accuracy: 0.8082\n",
      "Epoch 16/100\n",
      "1168/1168 [==============================] - 0s 110us/step - loss: 0.4682 - accuracy: 0.8587 - val_loss: 0.4895 - val_accuracy: 0.8356\n",
      "Epoch 17/100\n",
      "1168/1168 [==============================] - 0s 118us/step - loss: 0.4540 - accuracy: 0.8613 - val_loss: 0.4762 - val_accuracy: 0.8493\n",
      "Epoch 18/100\n",
      "1168/1168 [==============================] - 0s 120us/step - loss: 0.4400 - accuracy: 0.8639 - val_loss: 0.4628 - val_accuracy: 0.8493\n",
      "Epoch 19/100\n",
      "1168/1168 [==============================] - 0s 119us/step - loss: 0.4274 - accuracy: 0.8647 - val_loss: 0.4513 - val_accuracy: 0.8493\n",
      "Epoch 20/100\n",
      "1168/1168 [==============================] - 0s 110us/step - loss: 0.4149 - accuracy: 0.8741 - val_loss: 0.4435 - val_accuracy: 0.8562\n",
      "Epoch 21/100\n",
      "1168/1168 [==============================] - 0s 111us/step - loss: 0.4029 - accuracy: 0.8639 - val_loss: 0.4325 - val_accuracy: 0.8562\n",
      "Epoch 22/100\n",
      "1168/1168 [==============================] - 0s 119us/step - loss: 0.3917 - accuracy: 0.8724 - val_loss: 0.4203 - val_accuracy: 0.8562\n",
      "Epoch 23/100\n",
      "1168/1168 [==============================] - 0s 116us/step - loss: 0.3812 - accuracy: 0.8784 - val_loss: 0.4108 - val_accuracy: 0.8493\n",
      "Epoch 24/100\n",
      "1168/1168 [==============================] - 0s 111us/step - loss: 0.3716 - accuracy: 0.8844 - val_loss: 0.4039 - val_accuracy: 0.8493\n",
      "Epoch 25/100\n",
      "1168/1168 [==============================] - 0s 113us/step - loss: 0.3624 - accuracy: 0.8793 - val_loss: 0.3980 - val_accuracy: 0.8493\n",
      "Epoch 26/100\n",
      "1168/1168 [==============================] - 0s 126us/step - loss: 0.3549 - accuracy: 0.8784 - val_loss: 0.3890 - val_accuracy: 0.8493\n",
      "Epoch 27/100\n",
      "1168/1168 [==============================] - 0s 119us/step - loss: 0.3458 - accuracy: 0.8784 - val_loss: 0.3870 - val_accuracy: 0.8493\n",
      "Epoch 28/100\n",
      "1168/1168 [==============================] - 0s 111us/step - loss: 0.3407 - accuracy: 0.8767 - val_loss: 0.3795 - val_accuracy: 0.8493\n",
      "Epoch 29/100\n",
      "1168/1168 [==============================] - 0s 118us/step - loss: 0.3364 - accuracy: 0.8750 - val_loss: 0.3769 - val_accuracy: 0.8562\n",
      "Epoch 30/100\n",
      "1168/1168 [==============================] - 0s 116us/step - loss: 0.3294 - accuracy: 0.8793 - val_loss: 0.3710 - val_accuracy: 0.8493\n",
      "Epoch 31/100\n",
      "1168/1168 [==============================] - 0s 110us/step - loss: 0.3250 - accuracy: 0.8793 - val_loss: 0.3658 - val_accuracy: 0.8562\n",
      "Epoch 32/100\n",
      "1168/1168 [==============================] - 0s 110us/step - loss: 0.3198 - accuracy: 0.8818 - val_loss: 0.3665 - val_accuracy: 0.8562\n",
      "Epoch 33/100\n",
      "1168/1168 [==============================] - 0s 112us/step - loss: 0.3164 - accuracy: 0.8810 - val_loss: 0.3609 - val_accuracy: 0.8562\n",
      "Epoch 34/100\n",
      "1168/1168 [==============================] - 0s 110us/step - loss: 0.3131 - accuracy: 0.8793 - val_loss: 0.3642 - val_accuracy: 0.8425\n",
      "Epoch 35/100\n",
      "1168/1168 [==============================] - 0s 119us/step - loss: 0.3086 - accuracy: 0.8818 - val_loss: 0.3542 - val_accuracy: 0.8562\n",
      "Epoch 36/100\n",
      "1168/1168 [==============================] - 0s 112us/step - loss: 0.3055 - accuracy: 0.8870 - val_loss: 0.3571 - val_accuracy: 0.8562\n",
      "Epoch 37/100\n",
      "1168/1168 [==============================] - 0s 110us/step - loss: 0.3031 - accuracy: 0.8836 - val_loss: 0.3509 - val_accuracy: 0.8562\n",
      "Epoch 38/100\n",
      "1168/1168 [==============================] - 0s 110us/step - loss: 0.3005 - accuracy: 0.8836 - val_loss: 0.3454 - val_accuracy: 0.8767\n",
      "Epoch 39/100\n",
      "1168/1168 [==============================] - 0s 112us/step - loss: 0.2976 - accuracy: 0.8827 - val_loss: 0.3436 - val_accuracy: 0.8767\n",
      "Epoch 40/100\n",
      "1168/1168 [==============================] - 0s 114us/step - loss: 0.2957 - accuracy: 0.8853 - val_loss: 0.3437 - val_accuracy: 0.8699\n",
      "Epoch 41/100\n",
      "1168/1168 [==============================] - 0s 114us/step - loss: 0.2931 - accuracy: 0.8887 - val_loss: 0.3414 - val_accuracy: 0.8699\n",
      "Epoch 42/100\n",
      "1168/1168 [==============================] - 0s 112us/step - loss: 0.2904 - accuracy: 0.8844 - val_loss: 0.3394 - val_accuracy: 0.8767\n",
      "Epoch 43/100\n",
      "1168/1168 [==============================] - 0s 116us/step - loss: 0.2885 - accuracy: 0.8853 - val_loss: 0.3419 - val_accuracy: 0.8630\n",
      "Epoch 44/100\n",
      "1168/1168 [==============================] - 0s 113us/step - loss: 0.2864 - accuracy: 0.8861 - val_loss: 0.3372 - val_accuracy: 0.8836\n",
      "Epoch 45/100\n",
      "1168/1168 [==============================] - 0s 117us/step - loss: 0.2832 - accuracy: 0.8861 - val_loss: 0.3450 - val_accuracy: 0.8562\n",
      "Epoch 46/100\n",
      "1168/1168 [==============================] - 0s 114us/step - loss: 0.2824 - accuracy: 0.8896 - val_loss: 0.3394 - val_accuracy: 0.8699\n",
      "Epoch 47/100\n",
      "1168/1168 [==============================] - 0s 118us/step - loss: 0.2808 - accuracy: 0.8887 - val_loss: 0.3344 - val_accuracy: 0.8836\n",
      "Epoch 48/100\n",
      "1168/1168 [==============================] - 0s 116us/step - loss: 0.2786 - accuracy: 0.8904 - val_loss: 0.3427 - val_accuracy: 0.8630\n",
      "Epoch 49/100\n",
      "1168/1168 [==============================] - 0s 116us/step - loss: 0.2770 - accuracy: 0.8913 - val_loss: 0.3329 - val_accuracy: 0.8904\n",
      "Epoch 50/100\n",
      "1168/1168 [==============================] - 0s 119us/step - loss: 0.2774 - accuracy: 0.8913 - val_loss: 0.3433 - val_accuracy: 0.8699\n",
      "Epoch 51/100\n",
      "1168/1168 [==============================] - 0s 111us/step - loss: 0.2742 - accuracy: 0.8930 - val_loss: 0.3325 - val_accuracy: 0.8767\n",
      "Epoch 52/100\n",
      "1168/1168 [==============================] - 0s 117us/step - loss: 0.2727 - accuracy: 0.8913 - val_loss: 0.3318 - val_accuracy: 0.8904\n",
      "Epoch 53/100\n",
      "1168/1168 [==============================] - 0s 122us/step - loss: 0.2707 - accuracy: 0.8921 - val_loss: 0.3346 - val_accuracy: 0.8699\n",
      "Epoch 54/100\n"
     ]
    },
    {
     "name": "stdout",
     "output_type": "stream",
     "text": [
      "1168/1168 [==============================] - 0s 113us/step - loss: 0.2704 - accuracy: 0.8904 - val_loss: 0.3311 - val_accuracy: 0.8767\n",
      "Epoch 55/100\n",
      "1168/1168 [==============================] - 0s 125us/step - loss: 0.2694 - accuracy: 0.8913 - val_loss: 0.3299 - val_accuracy: 0.8904\n",
      "Epoch 56/100\n",
      "1168/1168 [==============================] - 0s 114us/step - loss: 0.2676 - accuracy: 0.8930 - val_loss: 0.3299 - val_accuracy: 0.8904\n",
      "Epoch 57/100\n",
      "1168/1168 [==============================] - 0s 110us/step - loss: 0.2654 - accuracy: 0.8938 - val_loss: 0.3302 - val_accuracy: 0.8767\n",
      "Epoch 58/100\n",
      "1168/1168 [==============================] - 0s 118us/step - loss: 0.2649 - accuracy: 0.8870 - val_loss: 0.3454 - val_accuracy: 0.8630\n",
      "Epoch 59/100\n",
      "1168/1168 [==============================] - 0s 110us/step - loss: 0.2653 - accuracy: 0.8913 - val_loss: 0.3360 - val_accuracy: 0.8699\n",
      "Epoch 60/100\n",
      "1168/1168 [==============================] - 0s 121us/step - loss: 0.2644 - accuracy: 0.8921 - val_loss: 0.3282 - val_accuracy: 0.8904\n",
      "Epoch 61/100\n",
      "1168/1168 [==============================] - 0s 118us/step - loss: 0.2624 - accuracy: 0.8964 - val_loss: 0.3282 - val_accuracy: 0.8904\n",
      "Epoch 62/100\n",
      "1168/1168 [==============================] - 0s 113us/step - loss: 0.2601 - accuracy: 0.8904 - val_loss: 0.3322 - val_accuracy: 0.8767\n",
      "Epoch 63/100\n",
      "1168/1168 [==============================] - 0s 121us/step - loss: 0.2597 - accuracy: 0.8913 - val_loss: 0.3277 - val_accuracy: 0.8904\n",
      "Epoch 64/100\n",
      "1168/1168 [==============================] - 0s 116us/step - loss: 0.2568 - accuracy: 0.8955 - val_loss: 0.3366 - val_accuracy: 0.8767\n",
      "Epoch 65/100\n",
      "1168/1168 [==============================] - 0s 116us/step - loss: 0.2574 - accuracy: 0.8947 - val_loss: 0.3314 - val_accuracy: 0.8767\n",
      "Epoch 66/100\n",
      "1168/1168 [==============================] - 0s 117us/step - loss: 0.2564 - accuracy: 0.8964 - val_loss: 0.3278 - val_accuracy: 0.8904\n",
      "Epoch 67/100\n",
      "1168/1168 [==============================] - 0s 122us/step - loss: 0.2572 - accuracy: 0.8913 - val_loss: 0.3276 - val_accuracy: 0.8904\n",
      "Epoch 68/100\n",
      "1168/1168 [==============================] - 0s 116us/step - loss: 0.2555 - accuracy: 0.8921 - val_loss: 0.3279 - val_accuracy: 0.8904\n",
      "Epoch 69/100\n",
      "1168/1168 [==============================] - 0s 113us/step - loss: 0.2544 - accuracy: 0.8955 - val_loss: 0.3291 - val_accuracy: 0.8836\n",
      "Epoch 70/100\n",
      "1168/1168 [==============================] - 0s 121us/step - loss: 0.2525 - accuracy: 0.8955 - val_loss: 0.3280 - val_accuracy: 0.8904\n",
      "Epoch 71/100\n",
      "1168/1168 [==============================] - 0s 116us/step - loss: 0.2519 - accuracy: 0.8913 - val_loss: 0.3338 - val_accuracy: 0.8836\n",
      "Epoch 72/100\n",
      "1168/1168 [==============================] - 0s 111us/step - loss: 0.2530 - accuracy: 0.8955 - val_loss: 0.3328 - val_accuracy: 0.8836\n",
      "Epoch 73/100\n",
      "1168/1168 [==============================] - 0s 119us/step - loss: 0.2508 - accuracy: 0.8938 - val_loss: 0.3305 - val_accuracy: 0.8904\n",
      "Epoch 74/100\n",
      "1168/1168 [==============================] - 0s 116us/step - loss: 0.2505 - accuracy: 0.8938 - val_loss: 0.3311 - val_accuracy: 0.8904\n",
      "Epoch 75/100\n",
      "1168/1168 [==============================] - 0s 111us/step - loss: 0.2495 - accuracy: 0.8981 - val_loss: 0.3357 - val_accuracy: 0.8836\n",
      "Epoch 76/100\n",
      "1168/1168 [==============================] - 0s 114us/step - loss: 0.2486 - accuracy: 0.8990 - val_loss: 0.3290 - val_accuracy: 0.8904\n",
      "Epoch 77/100\n",
      "1168/1168 [==============================] - 0s 128us/step - loss: 0.2468 - accuracy: 0.8973 - val_loss: 0.3366 - val_accuracy: 0.8836\n",
      "Epoch 78/100\n",
      "1168/1168 [==============================] - 0s 128us/step - loss: 0.2490 - accuracy: 0.8947 - val_loss: 0.3425 - val_accuracy: 0.8836\n",
      "Epoch 79/100\n",
      "1168/1168 [==============================] - 0s 151us/step - loss: 0.2479 - accuracy: 0.8964 - val_loss: 0.3345 - val_accuracy: 0.8836\n",
      "Epoch 80/100\n",
      "1168/1168 [==============================] - 0s 126us/step - loss: 0.2445 - accuracy: 0.8964 - val_loss: 0.3307 - val_accuracy: 0.8904\n",
      "Epoch 81/100\n",
      "1168/1168 [==============================] - 0s 137us/step - loss: 0.2453 - accuracy: 0.8955 - val_loss: 0.3350 - val_accuracy: 0.8904\n",
      "Epoch 82/100\n",
      "1168/1168 [==============================] - 0s 138us/step - loss: 0.2454 - accuracy: 0.8990 - val_loss: 0.3375 - val_accuracy: 0.9041\n",
      "Epoch 83/100\n",
      "1168/1168 [==============================] - 0s 124us/step - loss: 0.2458 - accuracy: 0.8964 - val_loss: 0.3314 - val_accuracy: 0.8904\n",
      "Epoch 84/100\n",
      "1168/1168 [==============================] - 0s 119us/step - loss: 0.2427 - accuracy: 0.8990 - val_loss: 0.3314 - val_accuracy: 0.8973\n",
      "Epoch 85/100\n",
      "1168/1168 [==============================] - 0s 109us/step - loss: 0.2440 - accuracy: 0.8964 - val_loss: 0.3351 - val_accuracy: 0.8836\n",
      "Epoch 86/100\n",
      "1168/1168 [==============================] - 0s 122us/step - loss: 0.2445 - accuracy: 0.8955 - val_loss: 0.3317 - val_accuracy: 0.8904\n",
      "Epoch 87/100\n",
      "1168/1168 [==============================] - 0s 115us/step - loss: 0.2430 - accuracy: 0.8964 - val_loss: 0.3327 - val_accuracy: 0.8904\n",
      "Epoch 88/100\n",
      "1168/1168 [==============================] - 0s 111us/step - loss: 0.2425 - accuracy: 0.8998 - val_loss: 0.3326 - val_accuracy: 0.8904\n",
      "Epoch 89/100\n",
      "1168/1168 [==============================] - 0s 109us/step - loss: 0.2415 - accuracy: 0.8973 - val_loss: 0.3328 - val_accuracy: 0.8904\n",
      "Epoch 90/100\n",
      "1168/1168 [==============================] - 0s 116us/step - loss: 0.2423 - accuracy: 0.8990 - val_loss: 0.3351 - val_accuracy: 0.8973\n",
      "Epoch 91/100\n",
      "1168/1168 [==============================] - 0s 113us/step - loss: 0.2421 - accuracy: 0.8990 - val_loss: 0.3338 - val_accuracy: 0.8904\n",
      "Epoch 92/100\n",
      "1168/1168 [==============================] - 0s 110us/step - loss: 0.2392 - accuracy: 0.8990 - val_loss: 0.3399 - val_accuracy: 0.9110\n",
      "Epoch 93/100\n",
      "1168/1168 [==============================] - 0s 112us/step - loss: 0.2391 - accuracy: 0.8998 - val_loss: 0.3365 - val_accuracy: 0.8973\n",
      "Epoch 94/100\n",
      "1168/1168 [==============================] - 0s 112us/step - loss: 0.2418 - accuracy: 0.8973 - val_loss: 0.3343 - val_accuracy: 0.8904\n",
      "Epoch 95/100\n",
      "1168/1168 [==============================] - 0s 115us/step - loss: 0.2389 - accuracy: 0.8973 - val_loss: 0.3364 - val_accuracy: 0.8973\n",
      "Epoch 96/100\n",
      "1168/1168 [==============================] - 0s 111us/step - loss: 0.2405 - accuracy: 0.8990 - val_loss: 0.3351 - val_accuracy: 0.8836\n",
      "Epoch 97/100\n",
      "1168/1168 [==============================] - 0s 110us/step - loss: 0.2376 - accuracy: 0.9007 - val_loss: 0.3457 - val_accuracy: 0.8904\n",
      "Epoch 98/100\n",
      "1168/1168 [==============================] - 0s 116us/step - loss: 0.2400 - accuracy: 0.9015 - val_loss: 0.3362 - val_accuracy: 0.8973\n",
      "Epoch 99/100\n",
      "1168/1168 [==============================] - 0s 112us/step - loss: 0.2369 - accuracy: 0.8998 - val_loss: 0.3385 - val_accuracy: 0.9110\n",
      "Epoch 100/100\n",
      "1168/1168 [==============================] - 0s 111us/step - loss: 0.2394 - accuracy: 0.8964 - val_loss: 0.3410 - val_accuracy: 0.9041\n"
     ]
    }
   ],
   "source": [
    "#Model training.\n",
    "hist = model.fit(X_train, Y_train, batch_size = 32, epochs = 100, validation_data = (X_val, Y_val))"
   ]
  },
  {
   "cell_type": "code",
   "execution_count": 11,
   "metadata": {},
   "outputs": [
    {
     "name": "stdout",
     "output_type": "stream",
     "text": [
      "146/146 [==============================] - 0s 89us/step\n"
     ]
    },
    {
     "data": {
      "text/plain": [
       "0.8698630332946777"
      ]
     },
     "execution_count": 11,
     "metadata": {},
     "output_type": "execute_result"
    }
   ],
   "source": [
    "#model Evaluation.\n",
    "model.evaluate(X_test,Y_test)[1]"
   ]
  },
  {
   "cell_type": "code",
   "execution_count": 14,
   "metadata": {},
   "outputs": [
    {
     "data": {
      "text/plain": [
       "[0,\n",
       " 1,\n",
       " 0,\n",
       " 0,\n",
       " 1,\n",
       " 0,\n",
       " 1,\n",
       " 0,\n",
       " 1,\n",
       " 0,\n",
       " 1,\n",
       " 1,\n",
       " 0,\n",
       " 1,\n",
       " 1,\n",
       " 1,\n",
       " 1,\n",
       " 0,\n",
       " 0,\n",
       " 0,\n",
       " 1,\n",
       " 1,\n",
       " 0,\n",
       " 0,\n",
       " 1,\n",
       " 1,\n",
       " 1,\n",
       " 1,\n",
       " 0,\n",
       " 0,\n",
       " 0,\n",
       " 1,\n",
       " 0,\n",
       " 0,\n",
       " 0,\n",
       " 0,\n",
       " 1,\n",
       " 0,\n",
       " 0,\n",
       " 0,\n",
       " 0,\n",
       " 0,\n",
       " 0,\n",
       " 1,\n",
       " 1,\n",
       " 0,\n",
       " 0,\n",
       " 0,\n",
       " 1,\n",
       " 1,\n",
       " 0,\n",
       " 0,\n",
       " 0,\n",
       " 0,\n",
       " 1,\n",
       " 1,\n",
       " 0,\n",
       " 1,\n",
       " 0,\n",
       " 1,\n",
       " 0,\n",
       " 0,\n",
       " 1,\n",
       " 0,\n",
       " 1,\n",
       " 0,\n",
       " 1,\n",
       " 0,\n",
       " 0,\n",
       " 0,\n",
       " 0,\n",
       " 0,\n",
       " 0,\n",
       " 0,\n",
       " 0,\n",
       " 0,\n",
       " 1,\n",
       " 1,\n",
       " 0,\n",
       " 1,\n",
       " 1,\n",
       " 0,\n",
       " 0,\n",
       " 0,\n",
       " 1,\n",
       " 1,\n",
       " 0,\n",
       " 0,\n",
       " 0,\n",
       " 0,\n",
       " 1,\n",
       " 0,\n",
       " 0,\n",
       " 0,\n",
       " 0,\n",
       " 0,\n",
       " 0,\n",
       " 1,\n",
       " 0,\n",
       " 0,\n",
       " 1,\n",
       " 1,\n",
       " 0,\n",
       " 0,\n",
       " 1,\n",
       " 0,\n",
       " 0,\n",
       " 0,\n",
       " 0,\n",
       " 0,\n",
       " 1,\n",
       " 1,\n",
       " 1,\n",
       " 1,\n",
       " 1,\n",
       " 0,\n",
       " 0,\n",
       " 0,\n",
       " 0,\n",
       " 0,\n",
       " 0,\n",
       " 1,\n",
       " 1,\n",
       " 0,\n",
       " 1,\n",
       " 0,\n",
       " 1,\n",
       " 0,\n",
       " 0,\n",
       " 0,\n",
       " 0,\n",
       " 0,\n",
       " 0,\n",
       " 0,\n",
       " 1,\n",
       " 0,\n",
       " 1,\n",
       " 0,\n",
       " 0,\n",
       " 0,\n",
       " 1,\n",
       " 1,\n",
       " 0,\n",
       " 1,\n",
       " 1,\n",
       " 0]"
      ]
     },
     "execution_count": 14,
     "metadata": {},
     "output_type": "execute_result"
    }
   ],
   "source": [
    "#Making the prediction.\n",
    "prediction = model.predict(X_test)\n",
    "prediction = [1 if y>= 0.869 else 0 for y in prediction]\n",
    "prediction"
   ]
  },
  {
   "cell_type": "code",
   "execution_count": 16,
   "metadata": {},
   "outputs": [
    {
     "data": {
      "text/plain": [
       "<matplotlib.legend.Legend at 0x2a7994fdc48>"
      ]
     },
     "execution_count": 16,
     "metadata": {},
     "output_type": "execute_result"
    },
    {
     "data": {
      "image/png": "[encoded data removed]",
      "text/plain": [
       "<Figure size 432x288 with 1 Axes>"
      ]
     },
     "metadata": {
      "needs_background": "light"
     },
     "output_type": "display_data"
    }
   ],
   "source": [
    "#Visualizing the training loss and the validation loss.\n",
    "plt.plot(hist.history['loss'])\n",
    "plt.plot(hist.history['val_loss'])\n",
    "plt.title('Model Loss')\n",
    "plt.ylabel('Loss')\n",
    "plt.xlabel('Epoch')\n",
    "plt.legend(['Train', 'Val'],loc='upper right')"
   ]
  },
  {
   "cell_type": "code",
   "execution_count": 18,
   "metadata": {},
   "outputs": [
    {
     "data": {
      "text/plain": [
       "<matplotlib.legend.Legend at 0x2a7995753c8>"
      ]
     },
     "execution_count": 18,
     "metadata": {},
     "output_type": "execute_result"
    },
    {
     "data": {
      "image/png": "[encoded data removed]",
      "text/plain": [
       "<Figure size 432x288 with 1 Axes>"
      ]
     },
     "metadata": {
      "needs_background": "light"
     },
     "output_type": "display_data"
    }
   ],
   "source": [
    "#Visualizing the training accuracy and the validation accuracy.\n",
    "plt.plot(hist.history['accuracy'])\n",
    "plt.plot(hist.history['val_accuracy'])\n",
    "plt.title('Model Accuracy')\n",
    "plt.ylabel('Accuracy')\n",
    "plt.xlabel('Epoch')\n",
    "plt.legend(['Train', 'Val'],loc='lower right')"
   ]
  },
  {
   "cell_type": "code",
   "execution_count": null,
   "metadata": {},
   "outputs": [],
   "source": []
  }
 ],
 "metadata": {
  "kernelspec": {
   "display_name": "Python 3",
   "language": "python",
   "name": "python3"
  },
  "language_info": {
   "codemirror_mode": {
    "name": "ipython",
    "version": 3
   },
   "file_extension": ".py",
   "mimetype": "text/x-python",
   "name": "python",
   "nbconvert_exporter": "python",
   "pygments_lexer": "ipython3",
   "version": "3.7.4"
  }
 },
 "nbformat": 4,
 "nbformat_minor": 4
}
